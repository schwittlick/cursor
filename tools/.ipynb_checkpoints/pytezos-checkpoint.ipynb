{
 "cells": [
  {
   "cell_type": "code",
   "execution_count": 1,
   "id": "965fc8fa-10ba-4dd3-a74c-36df63e23b6c",
   "metadata": {
    "tags": []
   },
   "outputs": [
    {
     "data": {
      "text/plain": [
       "<pytezos.client.PyTezosClient object at 0x7fd8bd1f8ee0>\n",
       "\n",
       "Properties\n",
       ".key\t\ttz1grSQDByRpnVs7sPtaprNZRp531ZKz6Jmm\n",
       ".shell\t\t['https://rpc.tzkt.io/ghostnet']\n",
       ".block_id\thead\n",
       "\n",
       "Helpers\n",
       ".account()\n",
       ".activate_account()\n",
       ".activate_protocol()\n",
       ".bake_block()\n",
       ".balance()\n",
       ".ballot()\n",
       ".bulk()\n",
       ".check_message()\n",
       ".contract()\n",
       ".delegation()\n",
       ".double_baking_evidence()\n",
       ".double_endorsement_evidence()\n",
       ".endorsement()\n",
       ".endorsement_with_slot()\n",
       ".failing_noop()\n",
       ".now()\n",
       ".operation()\n",
       ".operation_group()\n",
       ".origination()\n",
       ".proposals()\n",
       ".register_global_constant()\n",
       ".reveal()\n",
       ".seed_nonce_revelation()\n",
       ".sign_message()\n",
       ".sleep()\n",
       ".transaction()\n",
       ".using()\n",
       ".wait()"
      ]
     },
     "execution_count": 1,
     "metadata": {},
     "output_type": "execute_result"
    }
   ],
   "source": [
    "from pytezos import pytezos\n",
    "\n",
    "pytezos"
   ]
  },
  {
   "cell_type": "code",
   "execution_count": 2,
   "id": "2f7178d3-8ba0-4d1d-a67b-4f818b645a1e",
   "metadata": {
    "tags": []
   },
   "outputs": [
    {
     "data": {
      "text/plain": [
       "<function PyTezosClient.using at 0x7fd89e6e3940>\n",
       "Change current RPC endpoint and account (private key).\n",
       "\n",
       ":param shell: one of 'mainnet', '***net', or RPC node uri, or instance of :class:`pytezos.rpc.shell.ShellQuery`\n",
       ":param key: base58 encoded key, path to the faucet file, faucet file itself, alias from tezos-client, or `Key`\n",
       ":param mode: whether to use `readable` or `optimized` encoding for parameters/storage/other\n",
       ":returns: A copy of current object with changes applied"
      ]
     },
     "execution_count": 2,
     "metadata": {},
     "output_type": "execute_result"
    }
   ],
   "source": [
    "pytezos.using"
   ]
  },
  {
   "cell_type": "code",
   "execution_count": 4,
   "id": "11044432-ef00-40f5-b036-0d5ff99ed9c5",
   "metadata": {
    "tags": []
   },
   "outputs": [
    {
     "data": {
      "text/plain": [
       "<pytezos.client.PyTezosClient object at 0x7fd8bc159eb0>\n",
       "\n",
       "Properties\n",
       ".key\t\ttz1fyMA6pfJvAfuRS555wN1wUsY2F7R84hmN\n",
       ".shell\t\t['https://rpc.tzkt.io/ghostnet']\n",
       ".block_id\thead\n",
       "\n",
       "Helpers\n",
       ".account()\n",
       ".activate_account()\n",
       ".activate_protocol()\n",
       ".bake_block()\n",
       ".balance()\n",
       ".ballot()\n",
       ".bulk()\n",
       ".check_message()\n",
       ".contract()\n",
       ".delegation()\n",
       ".double_baking_evidence()\n",
       ".double_endorsement_evidence()\n",
       ".endorsement()\n",
       ".endorsement_with_slot()\n",
       ".failing_noop()\n",
       ".now()\n",
       ".operation()\n",
       ".operation_group()\n",
       ".origination()\n",
       ".proposals()\n",
       ".register_global_constant()\n",
       ".reveal()\n",
       ".seed_nonce_revelation()\n",
       ".sign_message()\n",
       ".sleep()\n",
       ".transaction()\n",
       ".using()\n",
       ".wait()"
      ]
     },
     "execution_count": 4,
     "metadata": {},
     "output_type": "execute_result"
    }
   ],
   "source": [
    "from pytezos import Key\n",
    "\n",
    "key = Key.generate()\n",
    "\n",
    "pytezos = pytezos.using(key=key)\n",
    "\n",
    "pytezos"
   ]
  },
  {
   "cell_type": "code",
   "execution_count": 6,
   "id": "12661468-4d52-479b-acb7-ce58e28607b8",
   "metadata": {
    "tags": []
   },
   "outputs": [
    {
     "data": {
      "text/plain": [
       "{'balance': '100000000', 'counter': '15908102'}"
      ]
     },
     "execution_count": 6,
     "metadata": {},
     "output_type": "execute_result"
    }
   ],
   "source": [
    "pytezos.account()"
   ]
  },
  {
   "cell_type": "code",
   "execution_count": 7,
   "id": "03ac9e74-8833-4d24-a7c7-c1973cd0d079",
   "metadata": {
    "tags": []
   },
   "outputs": [
    {
     "data": {
      "text/plain": [
       "<pytezos.operation.group.OperationGroup object at 0x7fd8bc181a30>\n",
       "\n",
       "Properties\n",
       ".key\t\ttz1fyMA6pfJvAfuRS555wN1wUsY2F7R84hmN\n",
       ".shell\t\t['https://rpc.tzkt.io/ghostnet']\n",
       ".block_id\thead\n",
       "\n",
       "Payload\n",
       "{'branch': 'BMRzswbH2J5ndRFhfwRsP6rjk2X2WU471faMqEG8gTJWRAue6rx',\n",
       " 'contents': [{'counter': '15908103',\n",
       "               'fee': '370',\n",
       "               'gas_limit': '1000',\n",
       "               'kind': 'reveal',\n",
       "               'public_key': 'edpkv5khAK1Z9cbhonw6PVY3vtb2ADALGDDEJPvTMZuRSmfoFB2jK5',\n",
       "               'source': 'tz1fyMA6pfJvAfuRS555wN1wUsY2F7R84hmN',\n",
       "               'storage_limit': '0'}],\n",
       " 'protocol': 'PtMumbai2TmsJHNGRkD8v8YDbtao7BLUC3wjASn1inAKLFCjaH1',\n",
       " 'signature': 'sigNuiW7rGBaNrzHe7XREaW9jGJa8NAZ7Y6pD6to1EYvL3DYrHPSDR4MAxF3tEL8j4BbJ86uX4W4pa4QqaCMzzfbwLZyCokM'}\n",
       "\n",
       "Hash\n",
       "oohVC7NRADdv2JrLZMTnDLAi16fz82aGwRvmCs39mpDHkoDXLAk\n",
       ".activate_account()\n",
       ".autofill()\n",
       ".ballot()\n",
       ".binary_payload()\n",
       ".delegation()\n",
       ".double_baking_evidence()\n",
       ".double_endorsement_evidence()\n",
       ".endorsement()\n",
       ".endorsement_with_slot()\n",
       ".failing_noop()\n",
       ".fill()\n",
       ".forge()\n",
       ".hash()\n",
       ".inject()\n",
       ".json_payload()\n",
       ".message()\n",
       ".operation()\n",
       ".origination()\n",
       ".preapply()\n",
       ".proposals()\n",
       ".register_global_constant()\n",
       ".result()\n",
       ".reveal()\n",
       ".run()\n",
       ".run_operation()\n",
       ".seed_nonce_revelation()\n",
       ".send()\n",
       ".send_async()\n",
       ".sign()\n",
       ".transaction()"
      ]
     },
     "execution_count": 7,
     "metadata": {},
     "output_type": "execute_result"
    }
   ],
   "source": [
    "reveal_op = pytezos.reveal().send()\n",
    "\n",
    "reveal_op"
   ]
  },
  {
   "cell_type": "code",
   "execution_count": 8,
   "id": "2d20f58a-21cb-4b59-b675-21e4237f395e",
   "metadata": {
    "tags": []
   },
   "outputs": [
    {
     "data": {
      "text/plain": [
       "<function ContractInterface.script at 0x7fd89e6e8c10>\n",
       "Generate script for contract origination.\n",
       "\n",
       ":param initial_storage: Python object, leave None to generate default (attach shell/key for smart fill)\n",
       ":param mode: whether to use `readable` or `optimized` (or `legacy_optimized`) encoding for initial storage\n",
       ":return: {\"code\": $Micheline, \"storage\": $Micheline}"
      ]
     },
     "execution_count": 8,
     "metadata": {},
     "output_type": "execute_result"
    }
   ],
   "source": [
    "from pytezos import ContractInterface\n",
    "\n",
    "contract = ContractInterface.from_url('https://raw.githubusercontent.com/baking-bad/pytezos/master/tests/unit_tests/test_michelson/test_repl/mini_scenarios/ticket_wallet_fungible.tz')\n",
    "\n",
    "contract.script"
   ]
  },
  {
   "cell_type": "code",
   "execution_count": 9,
   "id": "8cd9a5be-f211-494b-b878-f05b01242084",
   "metadata": {
    "tags": []
   },
   "outputs": [
    {
     "data": {
      "text/plain": [
       "{'manager': 'tz1fyMA6pfJvAfuRS555wN1wUsY2F7R84hmN', 'tickets': {}}"
      ]
     },
     "execution_count": 9,
     "metadata": {},
     "output_type": "execute_result"
    }
   ],
   "source": [
    "ci = contract.using(key=key)\n",
    "\n",
    "ci.storage.dummy()"
   ]
  },
  {
   "cell_type": "code",
   "execution_count": 10,
   "id": "09e01fba-2ce9-4db4-accd-bd713178c701",
   "metadata": {
    "tags": []
   },
   "outputs": [
    {
     "data": {
      "text/plain": [
       "<pytezos.operation.group.OperationGroup object at 0x7fd89e3f41f0>\n",
       "\n",
       "Properties\n",
       ".key\t\ttz1fyMA6pfJvAfuRS555wN1wUsY2F7R84hmN\n",
       ".shell\t\t['https://rpc.tzkt.io/ghostnet']\n",
       ".block_id\thead\n",
       "\n",
       "Payload\n",
       "{'branch': 'BLi3knDr7cZoRzSmZxFtASFoFSwtMgBzekRDqyFb5H8amqJB9EB',\n",
       " 'contents': [{'balance': '0',\n",
       "               'counter': '15908104',\n",
       "               'fee': '1161',\n",
       "               'gas_limit': '1694',\n",
       "               'kind': 'origination',\n",
       "               'script': {'code': [{'args': [{'args': [{'annots': ['%receive'],\n",
       "                                                        'args': [{'prim': 'unit'}],\n",
       "                                                        'prim': 'ticket'},\n",
       "                                                       {'annots': ['%send'],\n",
       "                                                        'args': [{'annots': ['%destination'],\n",
       "                                                                  'args': [{'args': [{'prim': 'unit'}],\n",
       "                                                                            'prim': 'ticket'}],\n",
       "                                                                  'prim': 'contract'},\n",
       "                                                                 {'args': [{'annots': ['%amount'],\n",
       "                                                                            'prim': 'nat'},\n",
       "                                                                           {'annots': ['%ticketer'],\n",
       "                                                                            'prim': 'address'}],\n",
       "                                                                  'prim': 'pair'}],\n",
       "                                                        'prim': 'pair'}],\n",
       "                                              'prim': 'or'}],\n",
       "                                    'prim': 'parameter'},\n",
       "                                   {'args': [{'args': [{'annots': ['%manager'],\n",
       "                                                        'prim': 'address'},\n",
       "                                                       {'annots': ['%tickets'],\n",
       "                                                        'args': [{'prim': 'address'},\n",
       "                                                                 {'args': [{'prim': 'unit'}],\n",
       "                                                                  'prim': 'ticket'}],\n",
       "                                                        'prim': 'big_map'}],\n",
       "                                              'prim': 'pair'}],\n",
       "                                    'prim': 'storage'},\n",
       "                                   {'args': [[{'prim': 'AMOUNT'},\n",
       "                                              {'args': [{'prim': 'mutez'},\n",
       "                                                        {'int': '0'}],\n",
       "                                               'prim': 'PUSH'},\n",
       "                                              [[{'prim': 'COMPARE'},\n",
       "                                                {'prim': 'EQ'}],\n",
       "                                               {'args': [[],\n",
       "                                                         [[{'prim': 'UNIT'},\n",
       "                                                           {'prim': 'FAILWITH'}]]],\n",
       "                                                'prim': 'IF'}],\n",
       "                                              {'args': [{'int': '3'}],\n",
       "                                               'prim': 'UNPAIR'},\n",
       "                                              {'args': [[{'prim': 'READ_TICKET'},\n",
       "                                                         {'annots': ['@ticketer'],\n",
       "                                                          'prim': 'CAR'},\n",
       "                                                         {'prim': 'DUP'},\n",
       "                                                         {'args': [{'int': '4'}],\n",
       "                                                          'prim': 'DIG'},\n",
       "                                                         {'args': [{'args': [{'prim': 'unit'}],\n",
       "                                                                    'prim': 'ticket'}],\n",
       "                                                          'prim': 'NONE'},\n",
       "                                                         {'args': [{'int': '2'}],\n",
       "                                                          'prim': 'DIG'},\n",
       "                                                         {'prim': 'GET_AND_UPDATE'},\n",
       "                                                         [{'args': [[{'args': [{'int': '2'}],\n",
       "                                                                      'prim': 'DIG'}],\n",
       "                                                                    [{'args': [{'int': '3'}],\n",
       "                                                                      'prim': 'DIG'},\n",
       "                                                                     {'prim': 'PAIR'},\n",
       "                                                                     {'prim': 'JOIN_TICKETS'},\n",
       "                                                                     [{'args': [[[{'prim': 'UNIT'},\n",
       "                                                                                  {'prim': 'FAILWITH'}]],\n",
       "                                                                                [{'prim': 'RENAME'}]],\n",
       "                                                                       'prim': 'IF_NONE'}]]],\n",
       "                                                           'prim': 'IF_NONE'}],\n",
       "                                                         {'prim': 'SOME'},\n",
       "                                                         {'args': [{'int': '2'}],\n",
       "                                                          'prim': 'DIG'},\n",
       "                                                         {'prim': 'GET_AND_UPDATE'},\n",
       "                                                         [{'args': [[],\n",
       "                                                                    [[{'prim': 'UNIT'},\n",
       "                                                                      {'prim': 'FAILWITH'}]]],\n",
       "                                                           'prim': 'IF_NONE'}],\n",
       "                                                         {'prim': 'SWAP'},\n",
       "                                                         {'prim': 'PAIR'},\n",
       "                                                         {'args': [{'prim': 'operation'}],\n",
       "                                                          'prim': 'NIL'}],\n",
       "                                                        [{'annots': ['@manager'],\n",
       "                                                          'args': [{'int': '2'}],\n",
       "                                                          'prim': 'DUP'},\n",
       "                                                         {'prim': 'SENDER'},\n",
       "                                                         [[{'prim': 'COMPARE'},\n",
       "                                                           {'prim': 'EQ'}],\n",
       "                                                          {'args': [[],\n",
       "                                                                    [[{'prim': 'UNIT'},\n",
       "                                                                      {'prim': 'FAILWITH'}]]],\n",
       "                                                           'prim': 'IF'}],\n",
       "                                                         {'args': [{'int': '3'}],\n",
       "                                                          'prim': 'UNPAIR'},\n",
       "                                                         {'args': [{'int': '4'}],\n",
       "                                                          'prim': 'DIG'},\n",
       "                                                         {'args': [{'args': [{'prim': 'unit'}],\n",
       "                                                                    'prim': 'ticket'}],\n",
       "                                                          'prim': 'NONE'},\n",
       "                                                         {'annots': ['@ticketer'],\n",
       "                                                          'args': [{'int': '5'}],\n",
       "                                                          'prim': 'DUP'},\n",
       "                                                         {'prim': 'GET_AND_UPDATE'},\n",
       "                                                         [{'args': [[[{'prim': 'UNIT'},\n",
       "                                                                      {'prim': 'FAILWITH'}]],\n",
       "                                                                    [{'prim': 'RENAME'}]],\n",
       "                                                           'prim': 'IF_NONE'}],\n",
       "                                                         {'prim': 'READ_TICKET'},\n",
       "                                                         {'annots': ['@total_amount'],\n",
       "                                                          'args': [{'int': '4'}],\n",
       "                                                          'prim': 'GET'},\n",
       "                                                         {'annots': ['@amount'],\n",
       "                                                          'args': [{'int': '5'}],\n",
       "                                                          'prim': 'DUP'},\n",
       "                                                         {'prim': 'SWAP'},\n",
       "                                                         {'prim': 'SUB'},\n",
       "                                                         {'prim': 'DUP'},\n",
       "                                                         {'prim': 'EQ'},\n",
       "                                                         {'args': [[{'prim': 'DROP'},\n",
       "                                                                    {'args': [{'int': '3'}],\n",
       "                                                                     'prim': 'DIG'},\n",
       "                                                                    {'prim': 'DROP'},\n",
       "                                                                    {'args': [{'int': '3'}],\n",
       "                                                                     'prim': 'DIG'},\n",
       "                                                                    {'prim': 'DROP'},\n",
       "                                                                    {'args': [{'int': '3'}],\n",
       "                                                                     'prim': 'DUG'}],\n",
       "                                                                   [{'prim': 'ISNAT'},\n",
       "                                                                    [{'args': [[[{'prim': 'UNIT'},\n",
       "                                                                                 {'prim': 'FAILWITH'}]],\n",
       "                                                                               [{'annots': ['@remaining_amount'],\n",
       "                                                                                 'prim': 'RENAME'}]],\n",
       "                                                                      'prim': 'IF_NONE'}],\n",
       "                                                                    {'args': [{'int': '4'}],\n",
       "                                                                     'prim': 'DIG'},\n",
       "                                                                    {'prim': 'PAIR'},\n",
       "                                                                    {'prim': 'SWAP'},\n",
       "                                                                    {'prim': 'SPLIT_TICKET'},\n",
       "                                                                    [{'args': [[[{'prim': 'UNIT'},\n",
       "                                                                                 {'prim': 'FAILWITH'}]],\n",
       "                                                                               [{'prim': 'RENAME'}]],\n",
       "                                                                      'prim': 'IF_NONE'}],\n",
       "                                                                    {'annots': ['@to_send',\n",
       "                                                                                '@to_keep'],\n",
       "                                                                     'prim': 'UNPAIR'},\n",
       "                                                                    {'args': [{'int': '5'}],\n",
       "                                                                     'prim': 'DUG'},\n",
       "                                                                    {'prim': 'SOME'},\n",
       "                                                                    {'args': [{'int': '3'}],\n",
       "                                                                     'prim': 'DIG'},\n",
       "                                                                    {'prim': 'GET_AND_UPDATE'},\n",
       "                                                                    [{'args': [[],\n",
       "                                                                               [[{'prim': 'UNIT'},\n",
       "                                                                                 {'prim': 'FAILWITH'}]]],\n",
       "                                                                      'prim': 'IF_NONE'}]]],\n",
       "                                                          'prim': 'IF'},\n",
       "                                                         {'args': [{'int': '2'}],\n",
       "                                                          'prim': 'DIG'},\n",
       "                                                         {'prim': 'PAIR'},\n",
       "                                                         {'prim': 'SWAP'},\n",
       "                                                         {'args': [{'prim': 'mutez'},\n",
       "                                                                   {'int': '0'}],\n",
       "                                                          'prim': 'PUSH'},\n",
       "                                                         {'args': [{'int': '3'}],\n",
       "                                                          'prim': 'DIG'},\n",
       "                                                         {'prim': 'TRANSFER_TOKENS'},\n",
       "                                                         {'args': [{'prim': 'operation'}],\n",
       "                                                          'prim': 'NIL'},\n",
       "                                                         {'prim': 'SWAP'},\n",
       "                                                         {'prim': 'CONS'}]],\n",
       "                                               'prim': 'IF_LEFT'},\n",
       "                                              {'prim': 'PAIR'}]],\n",
       "                                    'prim': 'code'}],\n",
       "                          'storage': {'args': [{'string': 'tz1fyMA6pfJvAfuRS555wN1wUsY2F7R84hmN'},\n",
       "                                               []],\n",
       "                                      'prim': 'Pair'}},\n",
       "               'source': 'tz1fyMA6pfJvAfuRS555wN1wUsY2F7R84hmN',\n",
       "               'storage_limit': '1127'}],\n",
       " 'protocol': 'PtMumbai2TmsJHNGRkD8v8YDbtao7BLUC3wjASn1inAKLFCjaH1',\n",
       " 'signature': 'siggk35xwhwWYEVLd4DLVAiJxAcb3pqKLS8JHQDfr4Sc4AKDzud6jBYQ3q3ubYrtcCDM3xJF25WBa6zU2RNruSkhDZxT7L65'}\n",
       "\n",
       "Hash\n",
       "op1zWQUftmRiqVjAc4JPZYE67goHqXyhZkTX79f5PfeD1vgDbRJ\n",
       ".activate_account()\n",
       ".autofill()\n",
       ".ballot()\n",
       ".binary_payload()\n",
       ".delegation()\n",
       ".double_baking_evidence()\n",
       ".double_endorsement_evidence()\n",
       ".endorsement()\n",
       ".endorsement_with_slot()\n",
       ".failing_noop()\n",
       ".fill()\n",
       ".forge()\n",
       ".hash()\n",
       ".inject()\n",
       ".json_payload()\n",
       ".message()\n",
       ".operation()\n",
       ".origination()\n",
       ".preapply()\n",
       ".proposals()\n",
       ".register_global_constant()\n",
       ".result()\n",
       ".reveal()\n",
       ".run()\n",
       ".run_operation()\n",
       ".seed_nonce_revelation()\n",
       ".send()\n",
       ".send_async()\n",
       ".sign()\n",
       ".transaction()"
      ]
     },
     "execution_count": 10,
     "metadata": {},
     "output_type": "execute_result"
    }
   ],
   "source": [
    "pytezos.origination(script=ci.script()).send(min_confirmations=1)"
   ]
  },
  {
   "cell_type": "code",
   "execution_count": 12,
   "id": "6b5f8230-1c90-4769-b9db-b947656702f2",
   "metadata": {
    "tags": []
   },
   "outputs": [
    {
     "data": {
      "text/plain": [
       "'KT1TgvuHikZ4cPbQAC2GZ9gLswjyrXkF4Zyq'"
      ]
     },
     "execution_count": 12,
     "metadata": {},
     "output_type": "execute_result"
    }
   ],
   "source": [
    "from pytezos.operation.result import OperationResult\n",
    "\n",
    "opg = pytezos.shell.blocks['BLi3knDr7cZoRzSmZxFtASFoFSwtMgBzekRDqyFb5H8amqJB9EB':].find_operation('op1zWQUftmRiqVjAc4JPZYE67goHqXyhZkTX79f5PfeD1vgDbRJ')\n",
    "\n",
    "res = OperationResult.from_operation_group(opg)\n",
    "\n",
    "res[0].originated_contracts[0]"
   ]
  },
  {
   "cell_type": "code",
   "execution_count": 13,
   "id": "e597f6d5-58dc-407e-a962-967328b46f72",
   "metadata": {
    "tags": []
   },
   "outputs": [
    {
     "data": {
      "text/plain": [
       "<pytezos.contract.entrypoint.ContractEntrypoint object at 0x7fd8bd1f8790>\n",
       "\n",
       "Properties\n",
       ".key\t\ttz1fyMA6pfJvAfuRS555wN1wUsY2F7R84hmN\n",
       ".shell\t\t['https://rpc.tzkt.io/ghostnet']\n",
       ".address\tKT1TgvuHikZ4cPbQAC2GZ9gLswjyrXkF4Zyq\n",
       ".block_id\thead\n",
       ".entrypoint\tdefault\n",
       "\n",
       "Builtin\n",
       "(*args, **kwargs)\t# build transaction parameters (see typedef)\n",
       "\n",
       "Typedef\n",
       "$default:\n",
       "\t{ \"receive\": ticket (unit) } ||\n",
       "\t{ \"send\": $send }\n",
       "\n",
       "$send:\n",
       "\t{\n",
       "\t  \"destination\": contract ($destination_param),\n",
       "\t  \"amount\": nat,\n",
       "\t  \"ticketer\": address\n",
       "\t}\n",
       "\n",
       "$destination_param:\n",
       "\tticket unit\n",
       "\n",
       "$ticket:\n",
       "\t/* no literal form, tickets can only be created by another contract */\n",
       "\n",
       "$contract:\n",
       "\tstr  /* Base58 encoded `KT` address with optional entrypoint */ ||\n",
       "\tNone  /* when you need to avoid type checking */ ||\n",
       "\tUndefined  /* `from pytezos import Undefined` for resolving None ambiguity  */\n",
       "\n",
       "$nat:\n",
       "\tint  /* Natural number */\n",
       "\n",
       "$address:\n",
       "\tstr  /* Base58 encoded `tz` or `KT` address */\n",
       "\n",
       "\n",
       "Helpers\n",
       ".decode()\n",
       ".encode()"
      ]
     },
     "execution_count": 13,
     "metadata": {},
     "output_type": "execute_result"
    }
   ],
   "source": [
    "builder = pytezos.contract('KT1TgvuHikZ4cPbQAC2GZ9gLswjyrXkF4Zyq')\n",
    "\n",
    "builder.parameter"
   ]
  },
  {
   "cell_type": "code",
   "execution_count": null,
   "id": "23e3ca24-a19d-4ee8-a7e6-c3e34397a094",
   "metadata": {},
   "outputs": [],
   "source": [
    "opg = pytezos.bulk(builder.mint(destination=f'tz1fyMA6pfJvAfuRS555wN1wUsY2F7R84hmN%receive', amount=42),builder.mint(destination=f'{wallet.address}%receive', amount=123)\n",
    ").send(min_confirmations=1)"
   ]
  }
 ],
 "metadata": {
  "kernelspec": {
   "display_name": "Python 3 (ipykernel)",
   "language": "python",
   "name": "python3"
  },
  "language_info": {
   "codemirror_mode": {
    "name": "ipython",
    "version": 3
   },
   "file_extension": ".py",
   "mimetype": "text/x-python",
   "name": "python",
   "nbconvert_exporter": "python",
   "pygments_lexer": "ipython3",
   "version": "3.9.0b5"
  }
 },
 "nbformat": 4,
 "nbformat_minor": 5
}
