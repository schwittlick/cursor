{
 "cells": [
  {
   "cell_type": "code",
   "execution_count": null,
   "id": "965fc8fa-10ba-4dd3-a74c-36df63e23b6c",
   "metadata": {
    "tags": []
   },
   "outputs": [],
   "source": [
    "from pytezos import pytezos\n",
    "\n",
    "pytezos"
   ]
  },
  {
   "cell_type": "code",
   "execution_count": null,
   "id": "2f7178d3-8ba0-4d1d-a67b-4f818b645a1e",
   "metadata": {
    "tags": []
   },
   "outputs": [],
   "source": [
    "pytezos.using"
   ]
  },
  {
   "cell_type": "code",
   "execution_count": null,
   "id": "11044432-ef00-40f5-b036-0d5ff99ed9c5",
   "metadata": {
    "tags": []
   },
   "outputs": [],
   "source": [
    "from pytezos import Key\n",
    "\n",
    "key = Key.generate()\n",
    "\n",
    "pytezos = pytezos.using(key=key)\n",
    "\n",
    "pytezos"
   ]
  },
  {
   "cell_type": "code",
   "execution_count": null,
   "id": "12661468-4d52-479b-acb7-ce58e28607b8",
   "metadata": {
    "tags": []
   },
   "outputs": [],
   "source": [
    "pytezos.account()"
   ]
  },
  {
   "cell_type": "code",
   "execution_count": null,
   "id": "03ac9e74-8833-4d24-a7c7-c1973cd0d079",
   "metadata": {
    "tags": []
   },
   "outputs": [],
   "source": [
    "reveal_op = pytezos.reveal().send()\n",
    "\n",
    "reveal_op"
   ]
  },
  {
   "cell_type": "code",
   "execution_count": null,
   "id": "2d20f58a-21cb-4b59-b675-21e4237f395e",
   "metadata": {
    "tags": []
   },
   "outputs": [],
   "source": [
    "from pytezos import ContractInterface\n",
    "\n",
    "contract = ContractInterface.from_url('https://raw.githubusercontent.com/baking-bad/pytezos/master/tests/unit_tests/test_michelson/test_repl/mini_scenarios/ticket_wallet_fungible.tz')\n",
    "\n",
    "contract.script"
   ]
  },
  {
   "cell_type": "code",
   "execution_count": null,
   "id": "8cd9a5be-f211-494b-b878-f05b01242084",
   "metadata": {
    "tags": []
   },
   "outputs": [],
   "source": [
    "ci = contract.using(key=key)\n",
    "\n",
    "ci.storage.dummy()"
   ]
  },
  {
   "cell_type": "code",
   "execution_count": null,
   "id": "09e01fba-2ce9-4db4-accd-bd713178c701",
   "metadata": {
    "tags": []
   },
   "outputs": [],
   "source": [
    "pytezos.origination(script=ci.script()).send(min_confirmations=1)"
   ]
  },
  {
   "cell_type": "code",
   "execution_count": null,
   "id": "6b5f8230-1c90-4769-b9db-b947656702f2",
   "metadata": {
    "tags": []
   },
   "outputs": [],
   "source": [
    "from pytezos.operation.result import OperationResult\n",
    "\n",
    "opg = pytezos.shell.blocks['BLi3knDr7cZoRzSmZxFtASFoFSwtMgBzekRDqyFb5H8amqJB9EB':].find_operation('op1zWQUftmRiqVjAc4JPZYE67goHqXyhZkTX79f5PfeD1vgDbRJ')\n",
    "\n",
    "res = OperationResult.from_operation_group(opg)\n",
    "\n",
    "res[0].originated_contracts[0]"
   ]
  },
  {
   "cell_type": "code",
   "execution_count": null,
   "id": "e597f6d5-58dc-407e-a962-967328b46f72",
   "metadata": {
    "tags": []
   },
   "outputs": [],
   "source": [
    "builder = pytezos.contract('KT1TgvuHikZ4cPbQAC2GZ9gLswjyrXkF4Zyq')\n",
    "\n",
    "builder.parameter"
   ]
  },
  {
   "cell_type": "code",
   "execution_count": null,
   "id": "23e3ca24-a19d-4ee8-a7e6-c3e34397a094",
   "metadata": {
    "tags": []
   },
   "outputs": [],
   "source": [
    "opg = pytezos.bulk(builder.send(destination=f'tz1fyMA6pfJvAfuRS555wN1wUsY2F7R84hmN%receive', amount=42, ticketer=\"tz1fyMA6pfJvAfuRS555wN1wUsY2F7R84hmN\"),builder.send(destination=f'tz1fyMA6pfJvAfuRS555wN1wUsY2F7R84hmN%receive', amount=123, ticketer=\"tz1fyMA6pfJvAfuRS555wN1wUsY2F7R84hmN\")\n",
    ").send(min_confirmations=1)"
   ]
  }
 ],
 "metadata": {
  "kernelspec": {
   "display_name": "Python 3 (ipykernel)",
   "language": "python",
   "name": "python3"
  },
  "language_info": {
   "codemirror_mode": {
    "name": "ipython",
    "version": 3
   },
   "file_extension": ".py",
   "mimetype": "text/x-python",
   "name": "python",
   "nbconvert_exporter": "python",
   "pygments_lexer": "ipython3",
   "version": "3.9.0b5"
  }
 },
 "nbformat": 4,
 "nbformat_minor": 5
}
