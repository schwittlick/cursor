{
 "cells": [
  {
   "cell_type": "code",
   "execution_count": null,
   "metadata": {
    "tags": []
   },
   "outputs": [],
   "source": [
    "from cursor import device\n",
    "from cursor import path\n",
    "from cursor import filter\n",
    "from cursor import data\n",
    "from cursor import loader\n",
    "\n",
    "import sys\n",
    "import math\n",
    "\n",
    "\n",
    "recordings = data.DataDirHandler().recordings()\n",
    "_loader = loader.Loader(directory=recordings, limit_files=None)\n",
    "all_paths = _loader.all_paths()"
   ]
  },
  {
   "cell_type": "code",
   "execution_count": null,
   "metadata": {},
   "outputs": [],
   "source": [
    "paths = all_paths.copy()"
   ]
  },
  {
   "cell_type": "code",
   "execution_count": null,
   "metadata": {
    "tags": []
   },
   "outputs": [],
   "source": [
    "paths = all_paths.copy()\n",
    "pc = path.PathCollection()\n",
    "\n",
    "w = 59\n",
    "h = 84\n",
    "\n",
    "fitting = []\n",
    "\n",
    "#min_distance_filter = filter.AspectRatioFilter(0.60, 1.40)\n",
    "#all_paths.filter(min_distance_filter)\n",
    "\n",
    "simplify_filter = filter.DistanceBetweenPointsFilter(0.1, 1.0)\n",
    "paths.filter(simplify_filter)\n",
    "#all_paths.clean()\n",
    "\n",
    "sorter = filter.Sorter(param=filter.Sorter.POINT_COUNT, reverse=True)\n",
    "paths.sort(sorter)\n",
    "\n",
    "print(len(paths))\n",
    "\n",
    "if len(paths) < w * h:\n",
    "    print(\"exit\")\n",
    "    sys.exit(1)\n",
    "\n",
    "for x in range(w):\n",
    "    for y in range(h):\n",
    "        index = x + w * y\n",
    "        b = path.BoundingBox(x, y, x + 1, y + 1)\n",
    "        p = paths[index]\n",
    "        p.move_to_origin()\n",
    "        c = p.centeroid()\n",
    "        bb = p.bb()\n",
    "        _w = p.bb().w\n",
    "        if _w == 0.0:\n",
    "            _w = 0.001\n",
    "        _h = p.bb().h\n",
    "        if _h == 0.0:\n",
    "            _h = 0.001\n",
    "        xscale = (1 / _w) * 0.8\n",
    "        yscale = (1 / _h) * 0.8\n",
    "        p.scale(xscale, yscale)\n",
    "        p.translate(x * 1, y * 1)\n",
    "        pc.add(p)\n",
    "\n",
    "\n",
    "\n",
    "pc.rot(-math.pi / 2)\n",
    "device.SimpleExportWrapper().ex(\n",
    "    pc,\n",
    "    device.PlotterType.ROLAND_DPX3300,\n",
    "    device.PaperSize.LANDSCAPE_A1,\n",
    "    30,\n",
    "    \"composition71\",\n",
    "    f\"c71_{pc.hash()}\",\n",
    ")"
   ]
  },
  {
   "cell_type": "code",
   "execution_count": null,
   "metadata": {},
   "outputs": [],
   "source": []
  }
 ],
 "metadata": {
  "kernelspec": {
   "display_name": "Python 3",
   "language": "python",
   "name": "python3"
  },
  "language_info": {
   "codemirror_mode": {
    "name": "ipython",
    "version": 3
   },
   "file_extension": ".py",
   "mimetype": "text/x-python",
   "name": "python",
   "nbconvert_exporter": "python",
   "pygments_lexer": "ipython3",
   "version": "3.9.0"
  }
 },
 "nbformat": 4,
 "nbformat_minor": 4
}